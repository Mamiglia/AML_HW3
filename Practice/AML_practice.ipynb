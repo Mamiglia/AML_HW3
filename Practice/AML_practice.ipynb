{
  "cells": [
    {
      "cell_type": "markdown",
      "metadata": {
        "id": "_U0EkDIvBXrO"
      },
      "source": [
        "## Table of contents:\n",
        "* Initial Setup\n",
        "* Data Loading and Preprocessing\n",
        "    * Data Variables\n",
        "* Model Instantiation\n",
        "* Optimizer and Scheduler\n",
        "* Train and Evaluation Loop\n",
        "    * Save the model and plot the losses (**1 Point**)\n",
        "* Test Loop  \n",
        "* Human Pose Visualization (**2 Points**)\n",
        "* Report and Parameter Fine-Tuning Analysis  (**4 Points**)\n",
        "* Calculating MPJPE for a Specific Frame  (**2 Points**)\n",
        "* Iterative Mechanism (**3 Points**)\n",
        "* YOUR custom model (**3 Points**)\n",
        "    * Performance BONUS (**Up to 2 Points**)\n",
        "\n"
      ]
    },
    {
      "cell_type": "markdown",
      "metadata": {
        "id": "0s2XUo8DBXrR"
      },
      "source": [
        "## Initial Setup\n",
        "Run the following two cellls to sync with Google Drive only if you run from Google Colab.\n",
        "\n",
        "*Note: we recommend using Google Colab for this specific homework, since the training phase will require a GPU*"
      ]
    },
    {
      "cell_type": "code",
      "execution_count": null,
      "metadata": {
        "colab": {
          "base_uri": "https://localhost:8080/"
        },
        "outputId": "557637c9-0504-448b-c025-aed868f04743",
        "id": "wYlC4O75MbWv"
      },
      "outputs": [
        {
          "output_type": "stream",
          "name": "stdout",
          "text": [
            "Mounted at /content/drive\n"
          ]
        }
      ],
      "source": [
        "from google.colab import drive\n",
        "drive.mount('/content/drive', force_remount=True)"
      ]
    },
    {
      "cell_type": "code",
      "execution_count": null,
      "metadata": {
        "colab": {
          "base_uri": "https://localhost:8080/"
        },
        "outputId": "90059f13-a482-42ef-c37b-aac3f13837fb",
        "id": "93V37peUMefw"
      },
      "outputs": [
        {
          "output_type": "stream",
          "name": "stdout",
          "text": [
            "/content/drive/MyDrive/AML_HW3/Practice\n"
          ]
        }
      ],
      "source": [
        "%cd /content/drive/MyDrive/AML_HW3/Practice"
      ]
    },
    {
      "cell_type": "markdown",
      "metadata": {
        "id": "nfZFycIrBXrT"
      },
      "source": [
        "Welcome to this guide on training, testing, and fine-tuning a deep learning model. Deep learning is at the forefront of artificial intelligence, with applications spanning image recognition, natural language processing, and more.\n",
        "\n",
        "Throughout this assignment, you'll:\n",
        "\n",
        "1. **Prepare Data:** Preprocess and load the data.\n",
        "\n",
        "2. **Use Neural Networks:** Instantiate a neural network architecture.\n",
        "\n",
        "3. **Train Models:** Utilize optimization, loss functions, and backpropagation.\n",
        "\n",
        "4. **Evaluate Performance:** Assess model performance, prevent overfitting, and underfitting.\n",
        "\n",
        "5. **Fine-Tune Models:** Explore hyperparameter tuning."
      ]
    },
    {
      "cell_type": "code",
      "execution_count": null,
      "metadata": {
        "id": "7air6QP1tXsa"
      },
      "outputs": [],
      "source": [
        "from utils import h36motion3d as datasets\n",
        "from torch.utils.data import DataLoader\n",
        "import matplotlib.pyplot as plt\n",
        "import torch.optim as optim\n",
        "import torch.autograd\n",
        "import torch\n",
        "import numpy as np\n",
        "from utils.loss_funcs import *\n",
        "from utils.data_utils import define_actions\n",
        "from utils.h36_3d_viz import visualize\n",
        "import time\n",
        "\n",
        "import torch.nn.functional as F\n",
        "\n",
        "import os"
      ]
    },
    {
      "cell_type": "code",
      "execution_count": null,
      "metadata": {
        "colab": {
          "base_uri": "https://localhost:8080/"
        },
        "outputId": "6400e764-2d19-4037-ee5f-e306a43efd96",
        "id": "tA9xH8T-MhuQ"
      },
      "outputs": [
        {
          "output_type": "stream",
          "name": "stdout",
          "text": [
            "Using device: cuda - Type: Tesla T4\n"
          ]
        }
      ],
      "source": [
        "# Use GPU if available, otherwise stick with cpu\n",
        "device = torch.device('cuda' if torch.cuda.is_available() else 'cpu')\n",
        "print('Using device:', device,  '- Type:', torch.cuda.get_device_name(0))"
      ]
    },
    {
      "cell_type": "markdown",
      "metadata": {
        "id": "AsK9hMdiBXrU"
      },
      "source": [
        "## Data Loading and Preprocessing"
      ]
    },
    {
      "cell_type": "markdown",
      "metadata": {
        "id": "e-EC3XAqBXrV"
      },
      "source": [
        "For this homework, you will use [Human3.6M](https://vision.imar.ro/human3.6m/pami-h36m.pdf), which is a large-scale dataset of 3.6 million accurate 3D human poses acquired by recording the performance of five female and six male subjects under four different viewpoints. The dataset includes:\n",
        "- Synchronized image.\n",
        "- Human motion capture.\n",
        "- Time of flight (depth) data.\n",
        "- Accurate 3D body scans of all the subject actors involved.\n",
        "\n",
        "The dataset aims to provide diverse motions and poses encountered in typical human activities, with additional data to train realistic human sensing systems.\n",
        "\n",
        "![picture](https://drive.google.com/uc?export=view&id=1nyD1_F3r1ctexKFGDmhy2Q9SX_2Z_bpS)\n",
        "\n",
        "For this assignment, we will leverage the rich **motion data** (See in the figure above) provided by H3.6M to perform a task known as *motion prediction*. Motion prediction involves using historical motion data to forecast future movements. This task is fundamental in human-robot interaction, animation, and sports analytics applications."
      ]
    },
    {
      "cell_type": "markdown",
      "metadata": {
        "id": "JDVBcpLABXrV"
      },
      "source": [
        "### Data Variables\n",
        "\n",
        "Each created sequence has the shape (35, 17, 3), where:\n",
        "- Number of observed sequences and number of sequences to predict: $N_{obs}+N_{pred} = 10 + 25 = 35$;\n",
        "- Number of body joints to consider: $J=22$;\n",
        "- Spatial coordinates: $(x,y,z) = 3$.\n",
        "\n",
        "\n",
        "The original data provides high-resolution progressive scan videos at 50 Hz. However, the dataset has been downsampled to 25 Hz for research purposes. This means that 25 frames of motion data are provided per second.\n",
        "\n",
        "*Note: the figure above shows 18 joints, however the dataset contains 32. For this specific case we will consider 22 joints, ignoring some of the finer ones (e.g. foot tip, hand tip, etc)*\n"
      ]
    },
    {
      "cell_type": "code",
      "execution_count": null,
      "metadata": {
        "id": "ZgNCWoUEBXrV"
      },
      "outputs": [],
      "source": [
        "# # Arguments to setup the datasets\n",
        "datas = 'h36m' # dataset name\n",
        "path = './data/h3.6m/h3.6m/dataset'\n",
        "input_n=10 # number of frames to train on (default=10)\n",
        "output_n=25 # number of frames to predict on\n",
        "input_dim=3 # dimensions of the input coordinates(default=3)\n",
        "skip_rate=1 # # skip rate of frames\n",
        "joints_to_consider=22\n",
        "\n",
        "\n",
        "#FLAGS FOR THE TRAINING\n",
        "mode='train' #choose either train or test mode\n",
        "\n",
        "batch_size_test=8\n",
        "model_path= './checkpoints/' # path to the model checkpoint file\n",
        "\n",
        "actions_to_consider_test='all' # actions to test on.\n",
        "model_name = datas+'_3d_'+str(output_n)+'frames_ckpt' #the model name to save/load\n",
        "\n",
        "#FLAGS FOR THE VISUALIZATION\n",
        "actions_to_consider_viz='all' # actions to visualize\n",
        "visualize_from='test'\n",
        "n_viz=2"
      ]
    },
    {
      "cell_type": "markdown",
      "metadata": {
        "id": "WHrODi8VBXrW"
      },
      "source": [
        "Load Dataset\n",
        "\n",
        "*Note: It will take you ~ 5 minutes*"
      ]
    },
    {
      "cell_type": "code",
      "execution_count": null,
      "metadata": {
        "colab": {
          "base_uri": "https://localhost:8080/"
        },
        "outputId": "3e513223-2915-4baa-f369-d1748ff93fc0",
        "id": "d4_ehLoLMPpv"
      },
      "outputs": [
        {
          "output_type": "stream",
          "name": "stdout",
          "text": [
            "Loading Train Dataset...\n"
          ]
        },
        {
          "output_type": "stream",
          "name": "stderr",
          "text": [
            "/content/drive/MyDrive/AML_HW3/Practice/utils/h36motion3d.py:30: VisibleDeprecationWarning: Creating an ndarray from ragged nested sequences (which is a list-or-tuple of lists-or-tuples-or ndarrays with different lengths or shapes) is deprecated. If you meant to do this, you must specify 'dtype=object' when creating the ndarray.\n",
            "  subs = np.array([[1, 6, 7, 8, 9], [11], [5]]) # , 6, 7, 8, 9\n"
          ]
        },
        {
          "output_type": "stream",
          "name": "stdout",
          "text": [
            "Loading Validation Dataset...\n"
          ]
        }
      ],
      "source": [
        "# Load Data\n",
        "print('Loading Train Dataset...')\n",
        "dataset = datasets.Datasets(path,input_n,output_n,skip_rate, split=0)\n",
        "print('Loading Validation Dataset...')\n",
        "vald_dataset = datasets.Datasets(path,input_n,output_n,skip_rate, split=1)\n",
        "\n",
        "#! Note: Ignore warning:  \"VisibleDeprecationWarning: Creating an ndarray from ragged nested sequences\""
      ]
    },
    {
      "cell_type": "markdown",
      "metadata": {
        "id": "ZBDfLkXfBXrW"
      },
      "source": [
        "Following we create a torch dataloader that create the batches for each epoch."
      ]
    },
    {
      "cell_type": "code",
      "execution_count": null,
      "metadata": {
        "colab": {
          "base_uri": "https://localhost:8080/"
        },
        "outputId": "f193cfd5-cb55-4ace-ae31-fb6bc97ff91b",
        "id": "oYXPm1b1MVY8"
      },
      "outputs": [
        {
          "output_type": "stream",
          "name": "stdout",
          "text": [
            ">>> Training dataset length: 180077\n",
            ">>> Validation dataset length: 28110\n"
          ]
        }
      ],
      "source": [
        "batch_size=256\n",
        "\n",
        "print('>>> Training dataset length: {:d}'.format(dataset.__len__()))\n",
        "data_loader = DataLoader(dataset, batch_size=batch_size, shuffle=True, num_workers=0, pin_memory=True)#\n",
        "\n",
        "print('>>> Validation dataset length: {:d}'.format(vald_dataset.__len__()))\n",
        "vald_loader = DataLoader(vald_dataset, batch_size=batch_size, shuffle=True, num_workers=0, pin_memory=True)"
      ]
    },
    {
      "cell_type": "markdown",
      "metadata": {
        "id": "ZdFwJ4QuBXrX"
      },
      "source": [
        "## Model instantiation"
      ]
    },
    {
      "cell_type": "markdown",
      "metadata": {
        "id": "cv7XT2pDBXrX"
      },
      "source": [
        "\n",
        "Each sequence comprises an **observed** part to train the Encoder and a part that attempts to predict the **future** sequence, the Decoder.\n",
        "\n",
        "Generally, the standard setup plans to use the first 10 sequences of poses ($N_{obs}=10$) for the observation and the following 25 ($N_{pred} = 25$) for the prediction.\n"
      ]
    },
    {
      "cell_type": "markdown",
      "metadata": {
        "id": "YW7_ED1vBXrY"
      },
      "source": [
        "We create an instance of a custom Spatio-Temporal transformer with the chosen configuration.\n",
        "\n",
        "(*Note: explore the model in ./models/sttr/sttformer.py*)\n",
        "\n",
        "Then we allocate it to the GPU for forward and backward accelerated computation."
      ]
    },
    {
      "cell_type": "code",
      "execution_count": null,
      "metadata": {
        "colab": {
          "base_uri": "https://localhost:8080/"
        },
        "outputId": "b7dd65a9-47ab-4192-e13b-3bce66dc577e",
        "id": "fr1vrwFjMnfs"
      },
      "outputs": [
        {
          "output_type": "stream",
          "name": "stdout",
          "text": [
            "Using device: cuda\n",
            "total number of parameters of the network is: 14999\n"
          ]
        }
      ],
      "source": [
        "from models.sttr.sttformer import Model\n",
        "device = torch.device('cuda' if torch.cuda.is_available() else 'cpu')\n",
        "print('Using device: %s'%device)\n",
        "\n",
        "n_heads = 1\n",
        "\n",
        "model = Model(num_joints=joints_to_consider,\n",
        "                 num_frames=input_n, num_frames_out=output_n, num_heads=n_heads,\n",
        "                 num_channels=3, kernel_size=[3,3], use_pes=True).to(device)\n",
        "\n",
        "print('total number of parameters of the network is: '+str(sum(p.numel() for p in model.parameters() if p.requires_grad)))"
      ]
    },
    {
      "cell_type": "markdown",
      "metadata": {
        "id": "xBtix_WjBXrY"
      },
      "source": [
        "## Optimizer and Scheduler"
      ]
    },
    {
      "cell_type": "markdown",
      "metadata": {
        "id": "1XtIPG_IBXrY"
      },
      "source": [
        "As we embark on training deep learning models for motion prediction using the H3.6M dataset, it's essential to recognize several key parameters and components that significantly impact the training phase:\n",
        "\n",
        "- **Learning Rate:** This parameter determines the convergence speed during optimization.\n",
        "\n",
        "- **Batch Size:** It influences model generalization and training efficiency.\n",
        "\n",
        "- **Number of Epochs:** The number of training iterations affects model learning.\n",
        "\n",
        "- **Loss Function:** The choice of loss function directly affects learning and final performance.\n",
        "\n",
        "- **Optimizer:** The optimization algorithm used (e.g., Adam, SGD) impacts gradient descent during training.\n",
        "\n",
        "- **Milestones and Gamma:** These parameters control learning rate schedules, allowing for adaptive adjustments during training.\n",
        "\n",
        "- **Weight Decay:** It regulates the impact of model parameters during optimization.\n",
        "\n",
        "- **Scheduler:** Scheduler strategies (e.g., StepLR, ReduceLROnPlateau) manage learning rate adaptation during training."
      ]
    },
    {
      "cell_type": "code",
      "execution_count": null,
      "metadata": {
        "id": "ILUrD5v4BXrZ"
      },
      "outputs": [],
      "source": [
        "# Arguments to setup the optimizer\n",
        "lr=1e-01 # learning rate\n",
        "use_scheduler=True # use MultiStepLR scheduler\n",
        "milestones=[10,30]   # the epochs after which the learning rate is adjusted by gamma\n",
        "gamma=0.1 #gamma correction to the learning rate, after reaching the milestone epochs\n",
        "weight_decay=1e-05 # weight decay (L2 penalty)\n",
        "optimizer=optim.Adam(model.parameters(),lr=lr,weight_decay=weight_decay)\n",
        "\n",
        "if use_scheduler:\n",
        "    scheduler = optim.lr_scheduler.MultiStepLR(optimizer, milestones=milestones, gamma=gamma)"
      ]
    },
    {
      "cell_type": "code",
      "execution_count": null,
      "metadata": {
        "id": "9lfkuKP1BXra"
      },
      "outputs": [],
      "source": [
        "clip_grad=None # select max norm to clip gradients\n",
        "# Argument for training\n",
        "n_epochs=41\n",
        "log_step = 200"
      ]
    },
    {
      "cell_type": "markdown",
      "metadata": {
        "id": "fTbGwJFtBXra"
      },
      "source": [
        "## Train and Evaluation Loop"
      ]
    },
    {
      "cell_type": "markdown",
      "metadata": {
        "id": "uBT0Z7FLBXrb"
      },
      "source": [
        "The **loss** and **metric** used during training and evaluation respectively, compare the predicted joint positions to ground truth joint positions for all frames, which is typically referred to as the **Average Mean Per\n",
        "Joint Position Error (A-MPJPE)** can be seen as an $L_2$. This loss quantifies the dissimilarity between the predicted and ground truth joint positions by measuring the squared Euclidean distance between corresponding joint positions.\n",
        "\n",
        "\\begin{align*}\n",
        "A-MPJPE &= \\frac{1}{N_{pred}} \\sum_{i=1}^{N_{pred}} \\left(\\frac{1}{J} \\sum_{j=1}^{J} \\left\\| P_{\\text{predicted}_{t,j}} - P_{\\text{gt}_{t,j}} \\right\\|^2\\right)\n",
        "\\end{align*}\n",
        "\n",
        "$$where:$$\n",
        "\n",
        "\\begin{align*}\n",
        "P_{\\text{predicted}} &: \\text{Set of predicted joint positions estimated by the model.} \\\\\n",
        "P_{\\text{gt}} &: \\text{Corresponding set of ground truth joint positions.} \\\\\n",
        "\\end{align*}"
      ]
    },
    {
      "cell_type": "markdown",
      "metadata": {
        "id": "lriDKsUoBXrb"
      },
      "source": [
        "*Note: If you restart the training for any reason, remember to instantiate the model and the optimizer again. This will avoid continuing the training with the initialized weights of the previous one*\n"
      ]
    },
    {
      "cell_type": "markdown",
      "metadata": {
        "id": "3hiF0f6oBXrb"
      },
      "source": [
        "### Save the model and plot the losses (1 Point)\n",
        "\n",
        "**Objective:** In this exercise, you will practice implementing a code snippet to save your deep learning model's checkpoints and visualize the training and validation loss on the same plot every 5 epochs during model training.\n",
        "\n",
        "Your task is to implement the following:\n",
        "\n",
        "- Set up a mechanism to save the model's checkpoints (weights and architecture) during training. These checkpoints should be saved periodically, say, **every 5 epochs**.\n",
        "\n",
        "- Create a plot displaying the training and validation losses on the same graph. The x-axis should represent the number of epochs, and the y-axis should represent the loss values. The training and validation losses should be plotted as separate lines on the same graph.\n",
        "\n",
        "- Ensure that the code saves the model's checkpoints in a specified directory, including the model's architecture and weights, and that the loss plot is displayed.\n",
        "\n",
        "Analyze the loss plot to gain insights into how your model is learning over time and whether there are any signs of overfitting or underfitting.\n",
        "\n",
        "*Note: see the Pytorch Documentation on how to save your model's checkpoints.*\n"
      ]
    },
    {
      "cell_type": "code",
      "execution_count": null,
      "metadata": {
        "id": "C-mu6EgcMtow"
      },
      "outputs": [],
      "source": [
        "def train(data_loader,vald_loader, path_to_save_model=None):\n",
        "  train_loss = []\n",
        "  val_loss = []\n",
        "  val_loss_best = 1000\n",
        "\n",
        "  # Initialize lists to store data from each checkpoint\n",
        "  train_losses = []\n",
        "  val_losses = []\n",
        "\n",
        "  dim_used = np.array([6, 7, 8, 9, 10, 11, 12, 13, 14, 15, 16, 17, 21, 22, 23, 24, 25,\n",
        "                    26, 27, 28, 29, 30, 31, 32, 36, 37, 38, 39, 40, 41, 42, 43, 44, 45,\n",
        "                    46, 47, 51, 52, 53, 54, 55, 56, 57, 58, 59, 63, 64, 65, 66, 67, 68,\n",
        "                    75, 76, 77, 78, 79, 80, 81, 82, 83, 87, 88, 89, 90, 91, 92])\n",
        "\n",
        "  for epoch in range(n_epochs-1):\n",
        "      running_loss=0\n",
        "      n=0\n",
        "      model.train()\n",
        "      for cnt,batch in enumerate(data_loader):\n",
        "          batch=batch.float().to(device)\n",
        "          batch_dim=batch.shape[0]\n",
        "          n+=batch_dim\n",
        "\n",
        "          sequences_train=batch[:, 0:input_n, dim_used].view(-1,input_n,len(dim_used)//3,3).permute(0,3,1,2)\n",
        "          sequences_gt=batch[:, input_n:input_n+output_n, dim_used].view(-1,output_n,len(dim_used)//3,3)\n",
        "\n",
        "          optimizer.zero_grad()\n",
        "          sequences_predict=model(sequences_train).view(-1, output_n, joints_to_consider, 3)\n",
        "\n",
        "\n",
        "          loss=mpjpe_error(sequences_predict,sequences_gt)\n",
        "\n",
        "\n",
        "          if cnt % log_step == 0:\n",
        "            print('[Epoch: %d, Iteration: %5d]  training loss: %.3f' %(epoch + 1, cnt + 1, loss.item()))\n",
        "\n",
        "          loss.backward()\n",
        "          if clip_grad is not None:\n",
        "            torch.nn.utils.clip_grad_norm_(model.parameters(),clip_grad)\n",
        "\n",
        "          optimizer.step()\n",
        "          running_loss += loss*batch_dim\n",
        "\n",
        "      train_loss.append(running_loss.detach().cpu()/n)\n",
        "      model.eval()\n",
        "      with torch.no_grad():\n",
        "          running_loss=0\n",
        "          n=0\n",
        "          for cnt,batch in enumerate(vald_loader):\n",
        "              batch=batch.float().to(device)\n",
        "              batch_dim=batch.shape[0]\n",
        "              n+=batch_dim\n",
        "\n",
        "\n",
        "              sequences_train=batch[:, 0:input_n, dim_used].view(-1,input_n,len(dim_used)//3,3).permute(0,3,1,2)\n",
        "              sequences_gt=batch[:, input_n:input_n+output_n, dim_used].view(-1,output_n,len(dim_used)//3,3)\n",
        "\n",
        "              sequences_predict=model(sequences_train).view(-1, output_n, joints_to_consider, 3)\n",
        "              loss=mpjpe_error(sequences_predict,sequences_gt)\n",
        "\n",
        "              if cnt % log_step == 0:\n",
        "                        print('[Epoch: %d, Iteration: %5d]  validation loss: %.3f' %(epoch + 1, cnt + 1, loss.item()))\n",
        "              running_loss+=loss*batch_dim\n",
        "          val_loss.append(running_loss.detach().cpu()/n)\n",
        "          if running_loss/n < val_loss_best:\n",
        "            val_loss_best = running_loss/n\n",
        "\n",
        "      if use_scheduler:\n",
        "        scheduler.step()\n",
        "\n",
        "      # save and plot model every 5 epochs\n",
        "      '''\n",
        "      Insert your code below. Use the argument path_to_save_model to save the model to the path specified.\n",
        "      '''\n",
        "\n",
        "      if save_and_plot and (epoch + 1) % 5 == 0:\n",
        "\n",
        "        torch.save(model.state_dict(), model_path+model_name+'_epoch_'+str(epoch+1)+'.pt')\n",
        "        train_losses.append(train_loss[-1])\n",
        "        val_losses.append(val_loss[-1])\n",
        "\n",
        "  epochs=[5,10,15,20,25,30,35,40]\n",
        "\n",
        "  # Create the plot\n",
        "  plt.figure(figsize=(10, 6))\n",
        "  plt.plot(epochs, train_losses, label='Train Loss', marker='o')\n",
        "  plt.plot(epochs, val_losses, label='Validation Loss', marker='o')\n",
        "\n",
        "  plt.xlabel('Epoch')\n",
        "  plt.ylabel('Loss')\n",
        "  plt.title('Training and Validation Loss Over Epochs')\n",
        "\n",
        "  plt.legend()\n",
        "\n",
        "  # Display the plot\n",
        "  plt.grid(True)\n",
        "  plt.show()\n"
      ]
    },
    {
      "cell_type": "code",
      "execution_count": null,
      "metadata": {
        "colab": {
          "base_uri": "https://localhost:8080/",
          "height": 1000
        },
        "outputId": "f13bcecd-35cc-4b88-ae9e-1d24cd7ce207",
        "id": "XAWwbc7pMz5G"
      },
      "outputs": [
        {
          "output_type": "stream",
          "name": "stdout",
          "text": [
            "[Epoch: 1, Iteration:     1]  training loss: 559.212\n",
            "[Epoch: 1, Iteration:   201]  training loss: 143.068\n",
            "[Epoch: 1, Iteration:   401]  training loss: 119.356\n",
            "[Epoch: 1, Iteration:   601]  training loss: 109.212\n",
            "[Epoch: 1, Iteration:     1]  validation loss: 119.530\n",
            "[Epoch: 2, Iteration:     1]  training loss: 114.200\n",
            "[Epoch: 2, Iteration:   201]  training loss: 106.197\n",
            "[Epoch: 2, Iteration:   401]  training loss: 105.069\n",
            "[Epoch: 2, Iteration:   601]  training loss: 103.193\n",
            "[Epoch: 2, Iteration:     1]  validation loss: 94.937\n",
            "[Epoch: 3, Iteration:     1]  training loss: 98.467\n",
            "[Epoch: 3, Iteration:   201]  training loss: 100.244\n",
            "[Epoch: 3, Iteration:   401]  training loss: 98.622\n",
            "[Epoch: 3, Iteration:   601]  training loss: 104.975\n",
            "[Epoch: 3, Iteration:     1]  validation loss: 99.809\n",
            "[Epoch: 4, Iteration:     1]  training loss: 104.647\n",
            "[Epoch: 4, Iteration:   201]  training loss: 98.764\n",
            "[Epoch: 4, Iteration:   401]  training loss: 98.423\n",
            "[Epoch: 4, Iteration:   601]  training loss: 95.255\n",
            "[Epoch: 4, Iteration:     1]  validation loss: 91.626\n",
            "[Epoch: 5, Iteration:     1]  training loss: 101.082\n",
            "[Epoch: 5, Iteration:   201]  training loss: 100.899\n",
            "[Epoch: 5, Iteration:   401]  training loss: 98.802\n",
            "[Epoch: 5, Iteration:   601]  training loss: 106.929\n",
            "[Epoch: 5, Iteration:     1]  validation loss: 94.182\n",
            "[Epoch: 6, Iteration:     1]  training loss: 97.511\n",
            "[Epoch: 6, Iteration:   201]  training loss: 89.924\n",
            "[Epoch: 6, Iteration:   401]  training loss: 94.123\n",
            "[Epoch: 6, Iteration:   601]  training loss: 98.406\n",
            "[Epoch: 6, Iteration:     1]  validation loss: 92.222\n",
            "[Epoch: 7, Iteration:     1]  training loss: 96.958\n",
            "[Epoch: 7, Iteration:   201]  training loss: 100.408\n",
            "[Epoch: 7, Iteration:   401]  training loss: 92.557\n",
            "[Epoch: 7, Iteration:   601]  training loss: 94.617\n",
            "[Epoch: 7, Iteration:     1]  validation loss: 87.595\n",
            "[Epoch: 8, Iteration:     1]  training loss: 93.546\n",
            "[Epoch: 8, Iteration:   201]  training loss: 93.205\n",
            "[Epoch: 8, Iteration:   401]  training loss: 92.035\n",
            "[Epoch: 8, Iteration:   601]  training loss: 92.378\n",
            "[Epoch: 8, Iteration:     1]  validation loss: 87.100\n",
            "[Epoch: 9, Iteration:     1]  training loss: 93.348\n",
            "[Epoch: 9, Iteration:   201]  training loss: 96.164\n",
            "[Epoch: 9, Iteration:   401]  training loss: 95.605\n",
            "[Epoch: 9, Iteration:   601]  training loss: 97.179\n",
            "[Epoch: 9, Iteration:     1]  validation loss: 91.507\n",
            "[Epoch: 10, Iteration:     1]  training loss: 92.594\n",
            "[Epoch: 10, Iteration:   201]  training loss: 94.257\n",
            "[Epoch: 10, Iteration:   401]  training loss: 91.744\n",
            "[Epoch: 10, Iteration:   601]  training loss: 99.406\n",
            "[Epoch: 10, Iteration:     1]  validation loss: 89.830\n",
            "[Epoch: 11, Iteration:     1]  training loss: 91.904\n",
            "[Epoch: 11, Iteration:   201]  training loss: 89.194\n",
            "[Epoch: 11, Iteration:   401]  training loss: 84.529\n",
            "[Epoch: 11, Iteration:   601]  training loss: 86.039\n",
            "[Epoch: 11, Iteration:     1]  validation loss: 82.918\n",
            "[Epoch: 12, Iteration:     1]  training loss: 86.914\n",
            "[Epoch: 12, Iteration:   201]  training loss: 90.666\n",
            "[Epoch: 12, Iteration:   401]  training loss: 92.511\n",
            "[Epoch: 12, Iteration:   601]  training loss: 90.505\n",
            "[Epoch: 12, Iteration:     1]  validation loss: 85.492\n",
            "[Epoch: 13, Iteration:     1]  training loss: 89.205\n",
            "[Epoch: 13, Iteration:   201]  training loss: 88.969\n",
            "[Epoch: 13, Iteration:   401]  training loss: 84.235\n",
            "[Epoch: 13, Iteration:   601]  training loss: 88.745\n",
            "[Epoch: 13, Iteration:     1]  validation loss: 85.631\n",
            "[Epoch: 14, Iteration:     1]  training loss: 87.753\n",
            "[Epoch: 14, Iteration:   201]  training loss: 86.866\n",
            "[Epoch: 14, Iteration:   401]  training loss: 85.995\n",
            "[Epoch: 14, Iteration:   601]  training loss: 88.403\n",
            "[Epoch: 14, Iteration:     1]  validation loss: 84.917\n",
            "[Epoch: 15, Iteration:     1]  training loss: 87.689\n",
            "[Epoch: 15, Iteration:   201]  training loss: 89.892\n",
            "[Epoch: 15, Iteration:   401]  training loss: 94.218\n",
            "[Epoch: 15, Iteration:   601]  training loss: 87.430\n",
            "[Epoch: 15, Iteration:     1]  validation loss: 84.720\n",
            "[Epoch: 16, Iteration:     1]  training loss: 89.365\n",
            "[Epoch: 16, Iteration:   201]  training loss: 88.453\n",
            "[Epoch: 16, Iteration:   401]  training loss: 89.150\n",
            "[Epoch: 16, Iteration:   601]  training loss: 87.015\n",
            "[Epoch: 16, Iteration:     1]  validation loss: 86.474\n",
            "[Epoch: 17, Iteration:     1]  training loss: 89.988\n",
            "[Epoch: 17, Iteration:   201]  training loss: 85.620\n",
            "[Epoch: 17, Iteration:   401]  training loss: 94.996\n",
            "[Epoch: 17, Iteration:   601]  training loss: 93.124\n",
            "[Epoch: 17, Iteration:     1]  validation loss: 88.145\n",
            "[Epoch: 18, Iteration:     1]  training loss: 89.814\n",
            "[Epoch: 18, Iteration:   201]  training loss: 92.288\n",
            "[Epoch: 18, Iteration:   401]  training loss: 90.171\n",
            "[Epoch: 18, Iteration:   601]  training loss: 89.473\n",
            "[Epoch: 18, Iteration:     1]  validation loss: 82.222\n",
            "[Epoch: 19, Iteration:     1]  training loss: 86.372\n",
            "[Epoch: 19, Iteration:   201]  training loss: 91.783\n",
            "[Epoch: 19, Iteration:   401]  training loss: 89.086\n",
            "[Epoch: 19, Iteration:   601]  training loss: 87.130\n",
            "[Epoch: 19, Iteration:     1]  validation loss: 83.913\n",
            "[Epoch: 20, Iteration:     1]  training loss: 88.948\n",
            "[Epoch: 20, Iteration:   201]  training loss: 88.940\n",
            "[Epoch: 20, Iteration:   401]  training loss: 91.550\n",
            "[Epoch: 20, Iteration:   601]  training loss: 87.518\n",
            "[Epoch: 20, Iteration:     1]  validation loss: 83.586\n",
            "[Epoch: 21, Iteration:     1]  training loss: 85.178\n",
            "[Epoch: 21, Iteration:   201]  training loss: 85.594\n",
            "[Epoch: 21, Iteration:   401]  training loss: 92.093\n",
            "[Epoch: 21, Iteration:   601]  training loss: 88.641\n",
            "[Epoch: 21, Iteration:     1]  validation loss: 84.400\n",
            "[Epoch: 22, Iteration:     1]  training loss: 89.975\n",
            "[Epoch: 22, Iteration:   201]  training loss: 88.714\n",
            "[Epoch: 22, Iteration:   401]  training loss: 88.200\n",
            "[Epoch: 22, Iteration:   601]  training loss: 89.107\n",
            "[Epoch: 22, Iteration:     1]  validation loss: 86.458\n",
            "[Epoch: 23, Iteration:     1]  training loss: 88.463\n",
            "[Epoch: 23, Iteration:   201]  training loss: 91.658\n",
            "[Epoch: 23, Iteration:   401]  training loss: 89.478\n",
            "[Epoch: 23, Iteration:   601]  training loss: 90.467\n",
            "[Epoch: 23, Iteration:     1]  validation loss: 87.828\n",
            "[Epoch: 24, Iteration:     1]  training loss: 85.521\n",
            "[Epoch: 24, Iteration:   201]  training loss: 93.365\n",
            "[Epoch: 24, Iteration:   401]  training loss: 91.163\n",
            "[Epoch: 24, Iteration:   601]  training loss: 88.975\n",
            "[Epoch: 24, Iteration:     1]  validation loss: 89.101\n",
            "[Epoch: 25, Iteration:     1]  training loss: 85.937\n",
            "[Epoch: 25, Iteration:   201]  training loss: 88.179\n",
            "[Epoch: 25, Iteration:   401]  training loss: 88.003\n",
            "[Epoch: 25, Iteration:   601]  training loss: 88.266\n",
            "[Epoch: 25, Iteration:     1]  validation loss: 85.729\n",
            "[Epoch: 26, Iteration:     1]  training loss: 87.854\n",
            "[Epoch: 26, Iteration:   201]  training loss: 89.665\n",
            "[Epoch: 26, Iteration:   401]  training loss: 87.542\n",
            "[Epoch: 26, Iteration:   601]  training loss: 89.244\n",
            "[Epoch: 26, Iteration:     1]  validation loss: 86.319\n",
            "[Epoch: 27, Iteration:     1]  training loss: 84.690\n",
            "[Epoch: 27, Iteration:   201]  training loss: 88.181\n",
            "[Epoch: 27, Iteration:   401]  training loss: 89.334\n",
            "[Epoch: 27, Iteration:   601]  training loss: 91.585\n",
            "[Epoch: 27, Iteration:     1]  validation loss: 84.679\n",
            "[Epoch: 28, Iteration:     1]  training loss: 89.222\n",
            "[Epoch: 28, Iteration:   201]  training loss: 89.032\n",
            "[Epoch: 28, Iteration:   401]  training loss: 89.695\n",
            "[Epoch: 28, Iteration:   601]  training loss: 93.540\n",
            "[Epoch: 28, Iteration:     1]  validation loss: 82.071\n",
            "[Epoch: 29, Iteration:     1]  training loss: 88.419\n",
            "[Epoch: 29, Iteration:   201]  training loss: 90.696\n",
            "[Epoch: 29, Iteration:   401]  training loss: 88.541\n",
            "[Epoch: 29, Iteration:   601]  training loss: 86.645\n",
            "[Epoch: 29, Iteration:     1]  validation loss: 82.853\n",
            "[Epoch: 30, Iteration:     1]  training loss: 94.380\n",
            "[Epoch: 30, Iteration:   201]  training loss: 87.714\n",
            "[Epoch: 30, Iteration:   401]  training loss: 86.505\n",
            "[Epoch: 30, Iteration:   601]  training loss: 91.194\n",
            "[Epoch: 30, Iteration:     1]  validation loss: 85.020\n",
            "[Epoch: 31, Iteration:     1]  training loss: 90.307\n",
            "[Epoch: 31, Iteration:   201]  training loss: 86.761\n",
            "[Epoch: 31, Iteration:   401]  training loss: 93.585\n",
            "[Epoch: 31, Iteration:   601]  training loss: 90.073\n",
            "[Epoch: 31, Iteration:     1]  validation loss: 81.886\n",
            "[Epoch: 32, Iteration:     1]  training loss: 92.385\n",
            "[Epoch: 32, Iteration:   201]  training loss: 86.331\n",
            "[Epoch: 32, Iteration:   401]  training loss: 83.500\n",
            "[Epoch: 32, Iteration:   601]  training loss: 89.577\n",
            "[Epoch: 32, Iteration:     1]  validation loss: 82.621\n",
            "[Epoch: 33, Iteration:     1]  training loss: 84.603\n",
            "[Epoch: 33, Iteration:   201]  training loss: 87.420\n",
            "[Epoch: 33, Iteration:   401]  training loss: 85.925\n",
            "[Epoch: 33, Iteration:   601]  training loss: 85.016\n",
            "[Epoch: 33, Iteration:     1]  validation loss: 83.779\n",
            "[Epoch: 34, Iteration:     1]  training loss: 85.113\n",
            "[Epoch: 34, Iteration:   201]  training loss: 95.175\n",
            "[Epoch: 34, Iteration:   401]  training loss: 89.131\n",
            "[Epoch: 34, Iteration:   601]  training loss: 93.958\n",
            "[Epoch: 34, Iteration:     1]  validation loss: 80.146\n",
            "[Epoch: 35, Iteration:     1]  training loss: 87.749\n",
            "[Epoch: 35, Iteration:   201]  training loss: 90.527\n",
            "[Epoch: 35, Iteration:   401]  training loss: 85.472\n",
            "[Epoch: 35, Iteration:   601]  training loss: 88.484\n",
            "[Epoch: 35, Iteration:     1]  validation loss: 80.868\n",
            "[Epoch: 36, Iteration:     1]  training loss: 89.709\n",
            "[Epoch: 36, Iteration:   201]  training loss: 86.411\n",
            "[Epoch: 36, Iteration:   401]  training loss: 84.994\n",
            "[Epoch: 36, Iteration:   601]  training loss: 91.314\n",
            "[Epoch: 36, Iteration:     1]  validation loss: 87.144\n",
            "[Epoch: 37, Iteration:     1]  training loss: 86.798\n",
            "[Epoch: 37, Iteration:   201]  training loss: 92.636\n",
            "[Epoch: 37, Iteration:   401]  training loss: 88.814\n",
            "[Epoch: 37, Iteration:   601]  training loss: 84.953\n",
            "[Epoch: 37, Iteration:     1]  validation loss: 81.163\n",
            "[Epoch: 38, Iteration:     1]  training loss: 86.772\n",
            "[Epoch: 38, Iteration:   201]  training loss: 88.852\n",
            "[Epoch: 38, Iteration:   401]  training loss: 92.871\n",
            "[Epoch: 38, Iteration:   601]  training loss: 85.782\n",
            "[Epoch: 38, Iteration:     1]  validation loss: 80.957\n",
            "[Epoch: 39, Iteration:     1]  training loss: 83.925\n",
            "[Epoch: 39, Iteration:   201]  training loss: 83.096\n",
            "[Epoch: 39, Iteration:   401]  training loss: 83.084\n",
            "[Epoch: 39, Iteration:   601]  training loss: 88.285\n",
            "[Epoch: 39, Iteration:     1]  validation loss: 89.197\n",
            "[Epoch: 40, Iteration:     1]  training loss: 91.983\n",
            "[Epoch: 40, Iteration:   201]  training loss: 83.907\n",
            "[Epoch: 40, Iteration:   401]  training loss: 86.385\n",
            "[Epoch: 40, Iteration:   601]  training loss: 87.098\n",
            "[Epoch: 40, Iteration:     1]  validation loss: 82.448\n"
          ]
        },
        {
          "output_type": "display_data",
          "data": {
            "text/plain": [
              "<Figure size 1000x600 with 1 Axes>"
            ],
            "image/png": "[encoded data removed]"
          },
          "metadata": {}
        }
      ],
      "source": [
        "save_and_plot = True # save the model and plot the loss. Change to True if you want to save the model and plot the loss\n",
        "\n",
        "# launch training\n",
        "train(data_loader,vald_loader, path_to_save_model=model_path)"
      ]
    },
    {
      "cell_type": "markdown",
      "metadata": {
        "id": "UgDiZz8L9CDE"
      },
      "source": [
        "The train and validation loss plot is useful to visualize what is happening during the training phase. In particular, we use it as a visualization tool to avoid the training phase to bring the model to overfitting. This is exactly the role of the validation set.\n",
        "\n",
        "In this case, we observe that the validation loss and the train loss decrease together, as they are supposed too.\n",
        "\n",
        "For those reasons, we decide to test the model at epoch 40, that corresponds to the point with lowest loss value."
      ]
    },
    {
      "cell_type": "markdown",
      "metadata": {
        "id": "RVcwUPM6BXrd"
      },
      "source": [
        "## Test Loop"
      ]
    },
    {
      "cell_type": "markdown",
      "metadata": {
        "id": "lrR1AEWoBXre"
      },
      "source": [
        "After training and validation, the test loop is the final phase that evaluates the model's performance on an entirely independent dataset known as the test dataset. This dataset is distinct from the training and validation data, ensuring unbiased assessment. The test loop provides a reliable estimate of how well the model will perform in real-world scenarios, confirming that any improvements observed during training and validation are not due to overfitting or chance. It's a crucial step before deploying the model in practical applications."
      ]
    },
    {
      "cell_type": "code",
      "execution_count": null,
      "metadata": {
        "id": "AjwwPPMNxjJ2"
      },
      "outputs": [],
      "source": [
        "def test(ckpt_path=None):\n",
        "    model.load_state_dict(torch.load(ckpt_path))\n",
        "    print('model loaded')\n",
        "    model.eval()\n",
        "    accum_loss=0\n",
        "    n_batches=0 # number of batches for all the sequences\n",
        "    actions=define_actions(actions_to_consider_test)\n",
        "    dim_used = np.array([6, 7, 8, 9, 10, 11, 12, 13, 14, 15, 16, 17, 21, 22, 23, 24, 25,\n",
        "                      26, 27, 28, 29, 30, 31, 32, 36, 37, 38, 39, 40, 41, 42, 43, 44, 45,\n",
        "                      46, 47, 51, 52, 53, 54, 55, 56, 57, 58, 59, 63, 64, 65, 66, 67, 68,\n",
        "                      75, 76, 77, 78, 79, 80, 81, 82, 83, 87, 88, 89, 90, 91, 92])\n",
        "    # joints at same loc\n",
        "    joint_to_ignore = np.array([16, 20, 23, 24, 28, 31])\n",
        "    index_to_ignore = np.concatenate((joint_to_ignore * 3, joint_to_ignore * 3 + 1, joint_to_ignore * 3 + 2))\n",
        "    joint_equal = np.array([13, 19, 22, 13, 27, 30])\n",
        "    index_to_equal = np.concatenate((joint_equal * 3, joint_equal * 3 + 1, joint_equal * 3 + 2))\n",
        "    totalll=0\n",
        "    counter=0\n",
        "    for action in actions:\n",
        "      running_loss=0\n",
        "      n=0\n",
        "      dataset_test = datasets.Datasets(path,input_n,output_n,skip_rate, split=2,actions=[action])\n",
        "      #print('>>> test action for sequences: {:d}'.format(dataset_test.__len__()))\n",
        "\n",
        "      test_loader = DataLoader(dataset_test, batch_size=batch_size_test, shuffle=False, num_workers=0, pin_memory=True)\n",
        "      for cnt,batch in enumerate(test_loader):\n",
        "        with torch.no_grad():\n",
        "\n",
        "          batch=batch.to(device)\n",
        "          batch_dim=batch.shape[0]\n",
        "          n+=batch_dim\n",
        "\n",
        "\n",
        "          all_joints_seq=batch.clone()[:, input_n:input_n+output_n,:]\n",
        "\n",
        "          sequences_train=batch[:, 0:input_n, dim_used].view(-1,input_n,len(dim_used)//3,3).permute(0,3,1,2)\n",
        "          sequences_gt=batch[:, input_n:input_n+output_n, :]\n",
        "\n",
        "\n",
        "          running_time = time.time()\n",
        "          sequences_predict=model(sequences_train).view(-1, output_n, joints_to_consider, 3)\n",
        "          #sequences_predict = model(sequences_train)\n",
        "          totalll += time.time()-running_time\n",
        "          counter += 1\n",
        "          sequences_predict=sequences_predict.contiguous().view(-1,output_n,len(dim_used))\n",
        "\n",
        "          all_joints_seq[:,:,dim_used] = sequences_predict\n",
        "\n",
        "\n",
        "          all_joints_seq[:,:,index_to_ignore] = all_joints_seq[:,:,index_to_equal]\n",
        "\n",
        "          loss=mpjpe_error(all_joints_seq.view(-1,output_n,32,3),sequences_gt.view(-1,output_n,32,3))\n",
        "          running_loss+=loss*batch_dim\n",
        "          accum_loss+=loss*batch_dim\n",
        "\n",
        "      #print('loss at test subject for action : '+str(action)+ ' is: '+ str(running_loss/n))\n",
        "      print(str(action),': ', str(np.round((running_loss/n).item(),1)))\n",
        "      n_batches+=n\n",
        "    print('Average: '+str(np.round((accum_loss/n_batches).item(),1)))\n",
        "    print('Prediction time: ', totalll/counter)\n"
      ]
    },
    {
      "cell_type": "markdown",
      "metadata": {
        "id": "e2TrFIWDBXre"
      },
      "source": [
        "*Note: Your results should be better than 95 millimiters on average*"
      ]
    },
    {
      "cell_type": "code",
      "execution_count": null,
      "metadata": {
        "colab": {
          "base_uri": "https://localhost:8080/"
        },
        "outputId": "81b1721f-1ea2-4970-9e1b-374e4f3dbfe1",
        "id": "sPH2iB0kNOfI"
      },
      "outputs": [
        {
          "output_type": "stream",
          "name": "stdout",
          "text": [
            "model loaded\n"
          ]
        },
        {
          "output_type": "stream",
          "name": "stderr",
          "text": [
            "/content/drive/MyDrive/AML_HW3/Practice/utils/h36motion3d.py:30: VisibleDeprecationWarning: Creating an ndarray from ragged nested sequences (which is a list-or-tuple of lists-or-tuples-or ndarrays with different lengths or shapes) is deprecated. If you meant to do this, you must specify 'dtype=object' when creating the ndarray.\n",
            "  subs = np.array([[1, 6, 7, 8, 9], [11], [5]]) # , 6, 7, 8, 9\n"
          ]
        },
        {
          "output_type": "stream",
          "name": "stdout",
          "text": [
            "walking :  68.6\n",
            "eating :  63.5\n",
            "smoking :  64.2\n",
            "discussion :  90.7\n",
            "directions :  81.7\n",
            "greeting :  105.4\n",
            "phoning :  78.9\n",
            "posing :  119.0\n",
            "purchases :  104.0\n",
            "sitting :  91.1\n",
            "sittingdown :  117.8\n",
            "takingphoto :  91.0\n",
            "waiting :  86.7\n",
            "walkingdog :  112.9\n",
            "walkingtogether :  61.4\n",
            "Average: 89.1\n",
            "Prediction time:  0.0049271658062934875\n"
          ]
        }
      ],
      "source": [
        "ckpt_path = './checkpoints/h36m_3d_25frames_ckpt_epoch_40.pt' # Change the epoch according to the validation curve\n",
        "test(ckpt_path)"
      ]
    },
    {
      "cell_type": "markdown",
      "metadata": {
        "id": "iELEXXORBXrf"
      },
      "source": [
        "## Human Pose Visualization  (**2 Points**)"
      ]
    },
    {
      "cell_type": "markdown",
      "metadata": {
        "id": "6dShZAp9BXrg"
      },
      "source": [
        "The qualitative results are as important as the quantitative ones. In this section, you will visualize and compare the predicted poses with the ground truth ones.\n",
        "For simplicity, you will visualize only the first predicted pose and the ground truth.\n",
        "\n",
        "Ideally, the same plot should show the predicted pose in red and the ground truth one in green.\n",
        "\n",
        "*Note: you will find which nodes are connected in the file ./models/skeleton_connection.py*"
      ]
    },
    {
      "cell_type": "code",
      "source": [
        "# This code corresponds to the one present in the file from which the function visualize is imported\n",
        "# It is reported here because some modification were made, highlighted with some comments\n",
        "\n",
        "#!/usr/bin/env python\n",
        "# coding: utf-8\n",
        "\n",
        "import numpy as np\n",
        "import torch\n",
        "from torch.utils.data import DataLoader\n",
        "import matplotlib.pyplot as plt\n",
        "from mpl_toolkits.mplot3d import Axes3D\n",
        "import matplotlib.animation as animation\n",
        "from utils import h36motion3d as datasets\n",
        "from utils.loss_funcs import mpjpe_error\n",
        "from utils.data_utils import define_actions\n",
        "\n",
        "def create_pose(ax,plots,vals,pred=True,update=False):\n",
        "\n",
        "\n",
        "    # [16, 20, 23, 24, 28, 31] IGNORE\n",
        "    # [13, 19, 22, 13, 27, 30] EQUAL\n",
        "    # h36m 32 joints(full)\n",
        "    connect = [\n",
        "            (1, 2), (2, 3), (3, 4), (4, 5),\n",
        "            (6, 7), (7, 8), (8, 9), (9, 10),\n",
        "            (0, 1), (0, 6),\n",
        "            (6, 17), (17, 18), (18, 19), (19, 20), (20, 21), (21, 22),\n",
        "            (1, 25), (25, 26), (26, 27), (27, 28), (28, 29), (29, 30),\n",
        "            (24, 25), (24, 17),\n",
        "            (24, 14), (14, 15)\n",
        "    ]\n",
        "    LR = [\n",
        "            False, True, True, True,\n",
        "            True, True, False, False,\n",
        "             False, False,\n",
        "            False, True, True, True, True, True, True,\n",
        "            False, False, False, False, False, False, False, True,\n",
        "            False, True, True, True, True,\n",
        "            True, True\n",
        "    ]\n",
        "\n",
        "\n",
        "# Start and endpoints of our representation\n",
        "    I   = np.array([touple[0] for touple in connect])\n",
        "    J   = np.array([touple[1] for touple in connect])\n",
        "# Left / right indicator\n",
        "    LR  = np.array([LR[a] or LR[b] for a,b in connect])\n",
        "    if pred:\n",
        "        lcolor = \"green\"  #colors changed\n",
        "        rcolor = \"green\"\n",
        "    else:\n",
        "        lcolor = \"red\"\n",
        "        rcolor = \"red\"\n",
        "\n",
        "    for i in np.arange( len(I) ):\n",
        "        x = np.array( [vals[I[i], 0], vals[J[i], 0]] )\n",
        "        z = np.array( [vals[I[i], 1], vals[J[i], 1]] )\n",
        "        y = np.array( [vals[I[i], 2], vals[J[i], 2]] )\n",
        "        if not update:\n",
        "\n",
        "            if i ==0:\n",
        "                plots.append(ax.plot(x, y, z, lw=2,linestyle='--' ,c=lcolor if LR[i] else rcolor,label=['Input Frames' if not pred else 'Predicted Frames']))\n",
        "            else:\n",
        "                plots.append(ax.plot(x, y, z, lw=2,linestyle='--', c=lcolor if LR[i] else rcolor))\n",
        "\n",
        "        elif update:\n",
        "            plots[i][0].set_xdata(x)\n",
        "            plots[i][0].set_ydata(y)\n",
        "            plots[i][0].set_3d_properties(z)\n",
        "            plots[i][0].set_color(lcolor if LR[i] else rcolor)\n",
        "\n",
        "    return plots\n",
        "   # ax.legend(loc='lower left')\n",
        "\n",
        "def update(num,data_gt,data_pred,plots_gt,plots_pred,fig,ax):\n",
        "\n",
        "    gt_vals=data_gt[num]\n",
        "    pred_vals=data_pred[num]\n",
        "    plots_gt=create_pose(ax,plots_gt,gt_vals,pred=False,update=True)\n",
        "    plots_pred=create_pose(ax,plots_pred,pred_vals,pred=True,update=True) ########à\n",
        "\n",
        "    r = 0.75\n",
        "    xroot, zroot, yroot = gt_vals[0,0], gt_vals[0,1], gt_vals[0,2]\n",
        "    ax.set_xlim3d([-r+xroot, r+xroot])\n",
        "    ax.set_ylim3d([-r+yroot, r+yroot])\n",
        "    ax.set_zlim3d([-r+zroot, r+zroot])\n",
        "    #ax.set_title('pose at time frame: '+str(num))\n",
        "    #ax.set_aspect('equal')\n",
        "\n",
        "    return plots_gt ,plots_pred ##################\n",
        "\n",
        "def visualize(input_n,output_n,visualize_from,path,modello,device,n_viz,skip_rate,actions):\n",
        "\n",
        "    actions=define_actions(actions)\n",
        "\n",
        "    for action in actions:\n",
        "\n",
        "        if visualize_from=='train':\n",
        "            loader=datasets.Datasets(path,input_n,output_n,skip_rate, split=0,actions=[action])\n",
        "        elif visualize_from=='validation':\n",
        "            loader=datasets.Datasets(path,input_n,output_n,skip_rate, split=1,actions=[action])\n",
        "        elif visualize_from=='test':\n",
        "            loader=datasets.Datasets(path,input_n,output_n,skip_rate, split=2,actions=[action])\n",
        "\n",
        "        dim_used = np.array([6, 7, 8, 9, 10, 11, 12, 13, 14, 15, 16, 17, 21, 22, 23, 24, 25,\n",
        "                        26, 27, 28, 29, 30, 31, 32, 36, 37, 38, 39, 40, 41, 42, 43, 44, 45,\n",
        "                        46, 47, 51, 52, 53, 54, 55, 56, 57, 58, 59, 63, 64, 65, 66, 67, 68,\n",
        "                        75, 76, 77, 78, 79, 80, 81, 82, 83, 87, 88, 89, 90, 91, 92])\n",
        "      # joints at same loc\n",
        "        joint_to_ignore = np.array([16, 20, 23, 24, 28, 31])\n",
        "        index_to_ignore = np.concatenate((joint_to_ignore * 3, joint_to_ignore * 3 + 1, joint_to_ignore * 3 + 2))\n",
        "        joint_equal = np.array([13, 19, 22, 13, 27, 30])\n",
        "        index_to_equal = np.concatenate((joint_equal * 3, joint_equal * 3 + 1, joint_equal * 3 + 2))\n",
        "\n",
        "\n",
        "        loader = DataLoader(\n",
        "        loader,\n",
        "        batch_size=1,\n",
        "        shuffle = True,\n",
        "        num_workers=0)\n",
        "\n",
        "        for cnt,batch in enumerate(loader):\n",
        "            batch = batch.to(device)\n",
        "\n",
        "            all_joints_seq=batch.clone()[:, input_n:input_n+output_n,:]\n",
        "\n",
        "            sequences_train=batch[:, 0:input_n, dim_used].view(-1,input_n,len(dim_used)//3,3).permute(0,3,1,2)\n",
        "            sequences_gt=batch[:, input_n:input_n+output_n, :]\n",
        "\n",
        "            sequences_predict=modello(sequences_train).contiguous().view(-1,output_n,len(dim_used)) # removed .permute(0,1,3,2)\n",
        "\n",
        "            all_joints_seq[:,:,dim_used] = sequences_predict\n",
        "\n",
        "            all_joints_seq[:,:,index_to_ignore] = all_joints_seq[:,:,index_to_equal]\n",
        "\n",
        "\n",
        "            all_joints_seq=all_joints_seq.view(-1,output_n,32,3)\n",
        "\n",
        "            sequences_gt=sequences_gt.view(-1,output_n,32,3)\n",
        "\n",
        "            loss=mpjpe_error(all_joints_seq,sequences_gt)# # both must have format (batch,T,V,C)\n",
        "\n",
        "            data_pred=torch.squeeze(all_joints_seq,0).cpu().data.numpy()/1000 # in meters\n",
        "            data_gt=torch.squeeze(sequences_gt,0).cpu().data.numpy()/1000\n",
        "\n",
        "            fig = plt.figure()\n",
        "            ax = fig.add_subplot(111, projection='3d')  # substitute Axes3D(fig) with this line\n",
        "            vals = np.zeros((32, 3)) # or joints_to_consider\n",
        "            gt_plots=[]\n",
        "            pred_plots=[]\n",
        "\n",
        "            gt_plots=create_pose(ax,gt_plots,vals,pred=False,update=False)\n",
        "            pred_plots=create_pose(ax,pred_plots,vals,pred=True,update=False)\n",
        "\n",
        "            ax.set_xlabel(\"x\")\n",
        "            ax.set_ylabel(\"y\")\n",
        "            ax.set_zlabel(\"z\")\n",
        "            ax.set_axis_off()\n",
        "            ax.legend(loc='lower left')\n",
        "\n",
        "            ax.set_xlim3d([-1, 1.5])\n",
        "            ax.set_xlabel('X')\n",
        "\n",
        "            ax.set_ylim3d([-1, 1.5])\n",
        "            ax.set_ylabel('Y')\n",
        "\n",
        "            ax.set_zlim3d([0.0, 1.5])\n",
        "            ax.set_zlabel('Z')\n",
        "           # ax.set_title('loss in mm is: '+str(round(loss.item(),4))+' for action : '+str(action)+' for '+str(output_n)+' frames')\n",
        "\n",
        "            plt.rcParams['grid.color'] = \"white\" # COMMENT FOR GRID\n",
        "\n",
        "            line_anim = animation.FuncAnimation(fig, update, output_n, fargs=(data_gt,data_pred,gt_plots,pred_plots,\n",
        "                                                                       fig,ax),interval=70, blit=False)\n",
        "\n",
        "            plt.show()\n",
        "\n",
        "            line_anim.save('human_viz2.gif',writer='pillow')\n",
        "\n",
        "            if cnt==n_viz-1:\n",
        "                break\n"
      ],
      "metadata": {
        "id": "4oeOGp5ZQEtA"
      },
      "execution_count": null,
      "outputs": []
    },
    {
      "cell_type": "code",
      "execution_count": null,
      "metadata": {
        "id": "aGdRHaBFNt2k"
      },
      "outputs": [],
      "source": [
        "%%capture\n",
        "\n",
        "'''\n",
        "Insert your code below\n",
        "\n",
        "'''\n",
        "visualize(input_n, output_n, visualize_from, path, model, device, n_viz, skip_rate, actions_to_consider_test)\n"
      ]
    },
    {
      "cell_type": "code",
      "source": [
        "from PIL import Image\n",
        "gif_path = \"./human_viz2.gif\"\n",
        "gif_image = Image.open(gif_path)\n",
        "\n",
        "plt.imshow(gif_image)\n",
        "#plt.axis('off')\n",
        "plt.show()"
      ],
      "metadata": {
        "colab": {
          "base_uri": "https://localhost:8080/",
          "height": 435
        },
        "id": "BuGn-90KboGW",
        "outputId": "94c644dd-dbdf-45c4-abf5-0f356f8851f1"
      },
      "execution_count": null,
      "outputs": [
        {
          "output_type": "display_data",
          "data": {
            "text/plain": [
              "<Figure size 640x480 with 1 Axes>"
            ],
            "image/png": "[encoded data removed]"
          },
          "metadata": {}
        }
      ]
    },
    {
      "cell_type": "markdown",
      "metadata": {
        "id": "Mfh69SDiBXrh"
      },
      "source": [
        "## Report and Parameter Fine-Tuning Analysis  (**4 Points**)"
      ]
    },
    {
      "cell_type": "markdown",
      "metadata": {
        "id": "kOcLSDxkBXrh"
      },
      "source": [
        "**Objective:** In this exercise, you will analyze the results obtained from a deep learning model you previously trained and perform parameter fine-tuning to optimize its performance. The key considerations are learning rate, milestones, and weight decay. **You will also use tables and plots to visualize and interpret the outcomes.**\n",
        "\n",
        "**Instructions:**\n",
        "\n",
        "1. **Analysis:** Analyze the generated report and answer the following questions:\n",
        "   - Is there evidence of overfitting or underfitting in the initial training results?\n",
        "   - Are there fluctuations in training and validation loss or accuracy? If so, what might be causing them?\n",
        "   - What can you infer from the initial learning rate, milestones, and weight decay settings?\n",
        "\n",
        "2. **Parameter Fine-Tuning:** Based on your analysis, perform parameter fine-tuning to optimize model performance. Adjust the following parameters:\n",
        "   - **Learning Rate:** Experiment with different learning rates (higher and lower values) to find an optimal rate.\n",
        "   - **Milestones:** Modify the milestone values for adjusting the learning rate schedule.\n",
        "   - **Weight Decay:** Explore different weight decay values.\n",
        "   \n",
        "\n",
        "3. **Re-Training:** Train the model with the adjusted hyperparameters. Record the training progress and generate a new report, including performance metrics and line plots as before.\n",
        "\n",
        "4. **Final Analysis:** Analyze the results of the fine-tuned model and compare them with the initial training. Answer the following questions:\n",
        "   - Has parameter fine-tuning improved model performance?\n",
        "   - Did it mitigate overfitting or underfitting issues?\n",
        "   - What can you conclude about the optimal hyperparameters for this task?\n"
      ]
    },
    {
      "cell_type": "markdown",
      "metadata": {
        "id": "hi3ybeUnBXrh"
      },
      "source": [
        "## Calculating MPJPE for a Specific Frame  (**2 Points**)"
      ]
    },
    {
      "cell_type": "markdown",
      "metadata": {
        "id": "QscgEyYVBXrh"
      },
      "source": [
        "\n",
        "In this exercise, you will calculate the Mean Per Joint Position Error (MPJPE) for a specific frame. This skill is valuable for assessing the accuracy of your model's predictions at a particular moment.\n",
        "\n",
        "\\begin{align*}\n",
        "\\text{MPJPE}_t = \\frac{1}{N} \\sum_{j=1}^{J} \\left\\| P_{\\text{predicted}_{t,j}} - P_{\\text{gt}_{t,j}} \\right\\|\n",
        "\\end{align*}\n",
        "\n",
        "Fixed the frame $t$, you will calculate the MPJPE for the predicted pose and the ground truth. Steps:\n",
        "\n",
        "- Write a function that takes in input the predicted pose and the ground truth one and returns the MPJPE for a number of frames $t$. (e.g. the output could be a dictionary with the frame number as key and the MPJPE as value)\n",
        "- Rewrite the test function to use the function you just wrote.\n",
        "- Run the newly created test function for $t=[5, 10, 15, 25]$ and report the results in a table and plot.\n",
        "\n",
        "\n",
        "\n"
      ]
    },
    {
      "cell_type": "code",
      "execution_count": null,
      "metadata": {
        "id": "mYQK7SB2BXri"
      },
      "outputs": [],
      "source": [
        "def mpjpe_per_frame(sequences_predict,sequences_gt, frames_to_consider):\n",
        "    '''\n",
        "    Insert your code below\n",
        "    '''\n",
        "    return ..."
      ]
    },
    {
      "cell_type": "code",
      "execution_count": null,
      "metadata": {
        "id": "w0arCQrDBXri"
      },
      "outputs": [],
      "source": [
        "def test_per_frame(ckpt_path=None):\n",
        "    model.load_state_dict(torch.load(ckpt_path))\n",
        "    print('model loaded')\n",
        "    model.eval()\n",
        "    accum_loss=0\n",
        "    n_batches=0 # number of batches for all the sequences\n",
        "    actions=define_actions(actions_to_consider_test)\n",
        "    dim_used = np.array([6, 7, 8, 9, 10, 11, 12, 13, 14, 15, 16, 17, 21, 22, 23, 24, 25,\n",
        "                      26, 27, 28, 29, 30, 31, 32, 36, 37, 38, 39, 40, 41, 42, 43, 44, 45,\n",
        "                      46, 47, 51, 52, 53, 54, 55, 56, 57, 58, 59, 63, 64, 65, 66, 67, 68,\n",
        "                      75, 76, 77, 78, 79, 80, 81, 82, 83, 87, 88, 89, 90, 91, 92])\n",
        "    # joints at same loc\n",
        "    joint_to_ignore = np.array([16, 20, 23, 24, 28, 31])\n",
        "    index_to_ignore = np.concatenate((joint_to_ignore * 3, joint_to_ignore * 3 + 1, joint_to_ignore * 3 + 2))\n",
        "    joint_equal = np.array([13, 19, 22, 13, 27, 30])\n",
        "    index_to_equal = np.concatenate((joint_equal * 3, joint_equal * 3 + 1, joint_equal * 3 + 2))\n",
        "    totalll=0\n",
        "    counter=0\n",
        "    for action in actions:\n",
        "      running_loss=0\n",
        "      n=0\n",
        "      dataset_test = datasets.Datasets(path,input_n,output_n,skip_rate, split=2,actions=[action])\n",
        "      #print('>>> test action for sequences: {:d}'.format(dataset_test.__len__()))\n",
        "\n",
        "      test_loader = DataLoader(dataset_test, batch_size=batch_size_test, shuffle=False, num_workers=0, pin_memory=True)\n",
        "      for cnt,batch in enumerate(test_loader):\n",
        "        with torch.no_grad():\n",
        "\n",
        "          batch=batch.to(device)\n",
        "          batch_dim=batch.shape[0]\n",
        "          n+=batch_dim\n",
        "\n",
        "\n",
        "          all_joints_seq=batch.clone()[:, input_n:input_n+output_n,:]\n",
        "\n",
        "          sequences_train=batch[:, 0:input_n, dim_used].view(-1,input_n,len(dim_used)//3,3).permute(0,3,1,2)\n",
        "          sequences_gt=batch[:, input_n:input_n+output_n, :]\n",
        "\n",
        "\n",
        "          running_time = time.time()\n",
        "          sequences_predict=model(sequences_train).view(-1, output_n, joints_to_consider, 3)\n",
        "          #sequences_predict = model(sequences_train)\n",
        "          totalll += time.time()-running_time\n",
        "          counter += 1\n",
        "          sequences_predict=sequences_predict.contiguous().view(-1,output_n,len(dim_used))\n",
        "\n",
        "          all_joints_seq[:,:,dim_used] = sequences_predict\n",
        "\n",
        "\n",
        "          all_joints_seq[:,:,index_to_ignore] = all_joints_seq[:,:,index_to_equal]\n",
        "\n",
        "          '''\n",
        "          Insert your code below.\n",
        "          The function mpjpe_per_frame should return the loss for each frame in the sequence. (e.g. a dictionary with keys the frames and values the loss for each frame)\n",
        "          Keep a tab of the running loss for each frame and the number of frames in the sequence.\n",
        "          '''\n",
        "          frames_to_consider = [5, 10, 15, 25]\n",
        "          dict_loss=mpjpe_per_frame(...)\n",
        "\n",
        "\n",
        "\n",
        "      '''\n",
        "      Insert your code below.\n",
        "      Average the loss over all the frames in the sequence and print the results.\n",
        "      '''\n"
      ]
    },
    {
      "cell_type": "code",
      "execution_count": null,
      "metadata": {
        "id": "U9sky2L9BXrj"
      },
      "outputs": [],
      "source": [
        "'''\n",
        "Insert your code below where you want to load the model and test it.\n",
        "You need to specify the path to the model checkpoint file and call the test function.\n",
        "'''\n",
        "ckpt_path = ...\n",
        "test_per_frame(ckpt_path)"
      ]
    },
    {
      "cell_type": "markdown",
      "metadata": {
        "id": "sVcNnOJMBXrk"
      },
      "source": [
        "## Iterative Mechanism (**3 Points**)"
      ]
    },
    {
      "cell_type": "markdown",
      "metadata": {
        "id": "NSSW3wgYBXrk"
      },
      "source": [
        "In this exercise, you will explore the concept of an iterative mechanism and its adaptability when the model's output length changes. You will start with a model designed to produce 25 output frames but adapt it to generate only 10. The exercise will involve modifying and re-training the model for the new output length. During test time, the model will generate 10 frames and then use them as input to generate the successive 10 frames, and so on, until the desired number of frames is reached. In this case, you are asked to generate 25 frames.\n",
        "\n",
        "The steps are as follows:\n",
        "- Change the model's output length from 25 to 10.\n",
        "- Re-train the model.\n",
        "- Rewrite the test function to generate 25 frames using the iterative mechanism.\n",
        "- Generate a new report and compare the results to the baseline model."
      ]
    },
    {
      "cell_type": "code",
      "execution_count": null,
      "metadata": {
        "id": "Bas-0-OHBXrk"
      },
      "outputs": [],
      "source": [
        "# # Arguments to setup the datasets\n",
        "datas = 'h36m' # dataset name\n",
        "path = './checkpoints/'\n",
        "input_n=10 # number of frames to train on (default=10)\n",
        "\n",
        "'''\n",
        "Insert your code below\n",
        "'''\n",
        "output_n= ... # number of frames to predict on\n",
        "\n",
        "input_dim=3 # dimensions of the input coordinates(default=3)\n",
        "skip_rate=1 # # skip rate of frames\n",
        "joints_to_consider=22\n",
        "\n",
        "#FLAGS FOR THE TRAINING\n",
        "mode='train' #choose either train or test mode\n",
        "\n",
        "batch_size_test=8\n",
        "model_path_iterative= './checkpoints/' # path to the model checkpoint file\n",
        "\n",
        "actions_to_consider_test='all' # actions to test on.\n",
        "model_name = datas+'_3d_'+str(output_n)+'frames_ckpt' #the model name to save/load\n",
        "\n",
        "#FLAGS FOR THE VISUALIZATION\n",
        "actions_to_consider_viz='all' # actions to visualize\n",
        "visualize_from='test'\n",
        "n_viz=2\n"
      ]
    },
    {
      "cell_type": "code",
      "execution_count": null,
      "metadata": {
        "id": "hMoSKaitBXrl"
      },
      "outputs": [],
      "source": [
        "# Load Data\n",
        "print('Loading Train Dataset...')\n",
        "dataset = datasets.Datasets(path,input_n,output_n,skip_rate, split=0)\n",
        "print('Loading Validation Dataset...')\n",
        "vald_dataset = datasets.Datasets(path,input_n,output_n,skip_rate, split=1)\n",
        "\n",
        "#! Note: Ignore warning:  \"VisibleDeprecationWarning: Creating an ndarray from ragged nested sequences\""
      ]
    },
    {
      "cell_type": "code",
      "execution_count": null,
      "metadata": {
        "id": "aRFyVcL9BXrl"
      },
      "outputs": [],
      "source": [
        "batch_size=256\n",
        "\n",
        "print('>>> Training dataset length: {:d}'.format(dataset.__len__()))\n",
        "data_loader = DataLoader(dataset, batch_size=batch_size, shuffle=True, num_workers=0, pin_memory=True)#\n",
        "\n",
        "print('>>> Validation dataset length: {:d}'.format(vald_dataset.__len__()))\n",
        "vald_loader = DataLoader(vald_dataset, batch_size=batch_size, shuffle=True, num_workers=0, pin_memory=True)"
      ]
    },
    {
      "cell_type": "code",
      "execution_count": null,
      "metadata": {
        "id": "_7OAb9s6BXrl"
      },
      "outputs": [],
      "source": [
        "from models.sttr.sttformer import Model\n",
        "device = torch.device('cuda' if torch.cuda.is_available() else 'cpu')\n",
        "print('Using device: %s'%device)\n",
        "\n",
        "n_heads = 1\n",
        "\n",
        "model = Model(num_joints=joints_to_consider,\n",
        "                 num_frames=input_n, num_frames_out=output_n, num_heads=n_heads,\n",
        "                 num_channels=3, kernel_size=[3,3], use_pes=True).to(device)\n",
        "\n",
        "print('total number of parameters of the network is: '+str(sum(p.numel() for p in model.parameters() if p.requires_grad)))"
      ]
    },
    {
      "cell_type": "code",
      "execution_count": null,
      "metadata": {
        "id": "aYdpdrcmBXrl"
      },
      "outputs": [],
      "source": [
        "# Arguments to setup the optimizer\n",
        "lr=1e-01 # learning rate\n",
        "use_scheduler=True # use MultiStepLR scheduler\n",
        "milestones=[10,30]   # the epochs after which the learning rate is adjusted by gamma\n",
        "gamma=0.1 #gamma correction to the learning rate, after reaching the milestone epochs\n",
        "weight_decay=1e-05 # weight decay (L2 penalty)\n",
        "optimizer=optim.Adam(model.parameters(),lr=lr,weight_decay=weight_decay)\n",
        "\n",
        "if use_scheduler:\n",
        "    scheduler = optim.lr_scheduler.MultiStepLR(optimizer, milestones=milestones, gamma=gamma)\n",
        "\n",
        "clip_grad=None # select max norm to clip gradients\n",
        "# Argument for training\n",
        "n_epochs=41\n",
        "log_step = 200"
      ]
    },
    {
      "cell_type": "markdown",
      "metadata": {
        "id": "W3_T38zzBXrm"
      },
      "source": [
        "### Train and Validation Loop"
      ]
    },
    {
      "cell_type": "code",
      "execution_count": null,
      "metadata": {
        "id": "Ps_FldQMBXrm"
      },
      "outputs": [],
      "source": [
        "save_and_plot = False # save the model and plot the loss. Change to True if you want to save the model and plot the loss"
      ]
    },
    {
      "cell_type": "code",
      "execution_count": null,
      "metadata": {
        "id": "EaiHzL3lBXrm"
      },
      "outputs": [],
      "source": [
        "# launch training with the new output_n\n",
        "train(data_loader,vald_loader, path_to_save_model=model_path_iterative)"
      ]
    },
    {
      "cell_type": "markdown",
      "metadata": {
        "id": "Flw5562hBXrm"
      },
      "source": [
        "### Test Loop"
      ]
    },
    {
      "cell_type": "code",
      "execution_count": null,
      "metadata": {
        "id": "0yi1JCPdBXrm"
      },
      "outputs": [],
      "source": [
        "def test(ckpt_path=None):\n",
        "    model.load_state_dict(torch.load(ckpt_path))\n",
        "    print('model loaded')\n",
        "    model.eval()\n",
        "    accum_loss=0\n",
        "    n_batches=0 # number of batches for all the sequences\n",
        "    actions=define_actions(actions_to_consider_test)\n",
        "    dim_used = np.array([6, 7, 8, 9, 10, 11, 12, 13, 14, 15, 16, 17, 21, 22, 23, 24, 25,\n",
        "                      26, 27, 28, 29, 30, 31, 32, 36, 37, 38, 39, 40, 41, 42, 43, 44, 45,\n",
        "                      46, 47, 51, 52, 53, 54, 55, 56, 57, 58, 59, 63, 64, 65, 66, 67, 68,\n",
        "                      75, 76, 77, 78, 79, 80, 81, 82, 83, 87, 88, 89, 90, 91, 92])\n",
        "    # joints at same loc\n",
        "    joint_to_ignore = np.array([16, 20, 23, 24, 28, 31])\n",
        "    index_to_ignore = np.concatenate((joint_to_ignore * 3, joint_to_ignore * 3 + 1, joint_to_ignore * 3 + 2))\n",
        "    joint_equal = np.array([13, 19, 22, 13, 27, 30])\n",
        "    index_to_equal = np.concatenate((joint_equal * 3, joint_equal * 3 + 1, joint_equal * 3 + 2))\n",
        "    totalll=0\n",
        "    counter=0\n",
        "    for action in actions:\n",
        "      running_loss=0\n",
        "      n=0\n",
        "      dataset_test = datasets.Datasets(path,input_n,output_n,skip_rate, split=2,actions=[action])\n",
        "      #print('>>> test action for sequences: {:d}'.format(dataset_test.__len__()))\n",
        "\n",
        "      test_loader = DataLoader(dataset_test, batch_size=batch_size_test, shuffle=False, num_workers=0, pin_memory=True)\n",
        "      for cnt,batch in enumerate(test_loader):\n",
        "        with torch.no_grad():\n",
        "\n",
        "          batch=batch.to(device)\n",
        "          batch_dim=batch.shape[0]\n",
        "          n+=batch_dim\n",
        "\n",
        "\n",
        "          all_joints_seq=batch.clone()[:, input_n:input_n+output_n,:]\n",
        "\n",
        "          sequences_train=batch[:, 0:input_n, dim_used].view(-1,input_n,len(dim_used)//3,3).permute(0,3,1,2)\n",
        "          sequences_gt=batch[:, input_n:input_n+output_n, :]\n",
        "\n",
        "\n",
        "          running_time = time.time()\n",
        "          sequences_predict=model(sequences_train).view(-1, output_n, joints_to_consider, 3)\n",
        "          #sequences_predict = model(sequences_train)\n",
        "          totalll += time.time()-running_time\n",
        "          counter += 1\n",
        "          '''\n",
        "          Insert your code below. You will need to iteratively predict the next frames and feed it to back to the model until you reach the desired number of frames.\n",
        "          '''\n"
      ]
    },
    {
      "cell_type": "code",
      "execution_count": null,
      "metadata": {
        "id": "nbwZQr2PBXrn"
      },
      "outputs": [],
      "source": [
        "test(ckpt_path=model_path_iterative)"
      ]
    },
    {
      "cell_type": "markdown",
      "metadata": {
        "id": "ceuqVt5HBXrn"
      },
      "source": [
        "## YOUR custom model (**3 Points**)\n",
        " In this exercise, you will implement a Transformer-like network (based on the Theory notebook) for this specific task. You can use the Transformer's Encoder and implement your own Decoder to predict future poses. (e.g. RNN, MLP, CNN, TCN, ...).\n",
        " We won't provide any code for this exercise, but you can use the code provided in the Theory notebook as a starting point.\n",
        " The goal of this exercise is not to beat the previous model but to understand how to implement a Transformer network for this specific task. For this reason, the evaluation will be based on the code you write and the explanation you provide in the report rather than the results.\n",
        "\n",
        "\n",
        "### Performance BONUS (**Up to 2 Points**)\n",
        "- **1 Bonus Point** if the model achieves an A-MPJPE between 80 and 90 millimeters.\n",
        "- **2 Bonus Points** if the model achieves an A-MPJPE between 70 and 80 millimeters.\n"
      ]
    },
    {
      "cell_type": "code",
      "execution_count": null,
      "metadata": {
        "id": "1dxldHMmBXro"
      },
      "outputs": [],
      "source": [
        "'''\n",
        "Input Shape: [batch_size, input_time, joints, 3]\n",
        "\n",
        "Encoder:\n",
        "Input shape: [batch_size, input_time, joints, 3]\n",
        "Output shape: [batch_size, input_time/output_time, joints, FREE]\n",
        "\n",
        "# Decoder:\n",
        "Input shape: [batch_size, input_time/output_time, joints, FREE]\n",
        "Output shape: [batch_size, output_time, joints, 3]\n",
        "\n",
        "\n",
        "Hint: Transformers often take an input of shape [batch_size, time, joints*channels], use the reshape or view function to match the dimensionality.\n",
        "'''"
      ]
    }
  ],
  "metadata": {
    "accelerator": "GPU",
    "colab": {
      "machine_shape": "hm",
      "provenance": []
    },
    "kernelspec": {
      "display_name": "Python 3.8.5 ('base')",
      "language": "python",
      "name": "python3"
    },
    "language_info": {
      "codemirror_mode": {
        "name": "ipython",
        "version": 3
      },
      "file_extension": ".py",
      "mimetype": "text/x-python",
      "name": "python",
      "nbconvert_exporter": "python",
      "pygments_lexer": "ipython3",
      "version": "3.8.5"
    },
    "vscode": {
      "interpreter": {
        "hash": "ad2bdc8ecc057115af97d19610ffacc2b4e99fae6737bb82f5d7fb13d2f2c186"
      }
    }
  },
  "nbformat": 4,
  "nbformat_minor": 0
}